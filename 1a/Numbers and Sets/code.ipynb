{
 "cells": [
  {
   "cell_type": "code",
   "execution_count": 1,
   "metadata": {},
   "outputs": [],
   "source": [
    "## example sheet 1 question 11 tests\n",
    "def T(m, n):\n",
    "    if m == 1:\n",
    "        return n + 1\n",
    "    \n",
    "    elif m > 1 and n == 1:\n",
    "        return T(m-1, 2)\n",
    "\n",
    "    elif m > 1 and n > 1:\n",
    "        return T(m-1, T(m, n-1))"
   ]
  },
  {
   "cell_type": "code",
   "execution_count": 46,
   "metadata": {},
   "outputs": [],
   "source": [
    "def test(m, n):\n",
    "    if m == 3:\n",
    "        return 2*n + 2\n",
    "\n",
    "    if m == 4:\n",
    "        return 2**(n + 2) - 2\n",
    "    \n",
    "    if m == 5:\n",
    "        a = 16\n",
    "        for _ in range(n-1):\n",
    "            a = 2**(a)\n",
    "        return a -2\n",
    "    "
   ]
  },
  {
   "cell_type": "code",
   "execution_count": 53,
   "metadata": {},
   "outputs": [
    {
     "name": "stdout",
     "output_type": "stream",
     "text": [
      "1: 6 6 True\n",
      "2: 14 14 True\n",
      "3: 30 30 True\n",
      "4: 62 62 True\n",
      "5: 126 126 True\n",
      "6: 254 254 True\n",
      "7: 510 510 True\n",
      "8: 1022 1022 True\n",
      "9: 2046 2046 True\n"
     ]
    }
   ],
   "source": [
    "case = 4\n",
    "\n",
    "for i in range(1, 10):\n",
    "    a = T(case, i)\n",
    "    b = test(case, i)\n",
    "    print(f'{i}: {a} {b} {a == b}')"
   ]
  }
 ],
 "metadata": {
  "kernelspec": {
   "display_name": "Python 3",
   "language": "python",
   "name": "python3"
  },
  "language_info": {
   "codemirror_mode": {
    "name": "ipython",
    "version": 3
   },
   "file_extension": ".py",
   "mimetype": "text/x-python",
   "name": "python",
   "nbconvert_exporter": "python",
   "pygments_lexer": "ipython3",
   "version": "3.11.3"
  }
 },
 "nbformat": 4,
 "nbformat_minor": 2
}
