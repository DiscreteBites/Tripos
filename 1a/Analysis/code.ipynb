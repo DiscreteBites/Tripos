{
 "cells": [
  {
   "cell_type": "code",
   "execution_count": 10,
   "metadata": {},
   "outputs": [
    {
     "name": "stdout",
     "output_type": "stream",
     "text": [
      "2.23606797749979\n",
      "2.23606797749979 2.23606797749979\n"
     ]
    }
   ],
   "source": [
    "import math\n",
    "a_1 = 5\n",
    "b_1 = 1\n",
    "\n",
    "a_p = a_1\n",
    "b_p = b_1\n",
    "for r in range(1000000):\n",
    "    a_n = (a_p + b_p)/2\n",
    "    b_n = (2 * a_p * b_p) / (a_p + b_p)\n",
    "\n",
    "    a_p = a_n\n",
    "    b_p = b_n\n",
    "\n",
    "print(math.sqrt(a_1*b_1))\n",
    "print(a_p, b_p)"
   ]
  },
  {
   "cell_type": "code",
   "execution_count": 25,
   "metadata": {},
   "outputs": [
    {
     "name": "stdout",
     "output_type": "stream",
     "text": [
      "249250499.9999949\n"
     ]
    }
   ],
   "source": [
    "s = 0\n",
    "z = 4.99\n",
    "for r in range(1000000):\n",
    "    s += r**2 * (z/5)**r\n",
    "\n",
    "print(s)"
   ]
  }
 ],
 "metadata": {
  "kernelspec": {
   "display_name": "Python 3",
   "language": "python",
   "name": "python3"
  },
  "language_info": {
   "codemirror_mode": {
    "name": "ipython",
    "version": 3
   },
   "file_extension": ".py",
   "mimetype": "text/x-python",
   "name": "python",
   "nbconvert_exporter": "python",
   "pygments_lexer": "ipython3",
   "version": "3.11.3"
  }
 },
 "nbformat": 4,
 "nbformat_minor": 2
}
